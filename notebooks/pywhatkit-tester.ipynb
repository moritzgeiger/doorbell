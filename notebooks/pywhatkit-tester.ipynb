{
 "cells": [
  {
   "cell_type": "code",
   "execution_count": 1,
   "id": "3582ce51",
   "metadata": {
    "ExecuteTime": {
     "end_time": "2021-07-02T11:31:38.548926Z",
     "start_time": "2021-07-02T11:31:37.761594Z"
    }
   },
   "outputs": [
    {
     "name": "stderr",
     "output_type": "stream",
     "text": [
      "/Users/moritzgeiger/.pyenv/versions/3.9.0/envs/doorbell_3.9.0/lib/python3.9/site-packages/rubicon/objc/ctypes_patch.py:21: UserWarning: rubicon.objc.ctypes_patch has only been tested with Python 3.4 through 3.8. You are using Python 3.9.0. Most likely things will work properly, but you may experience crashes if Python's internals have changed significantly.\n",
      "  warnings.warn(\n"
     ]
    }
   ],
   "source": [
    "from dotenv import load_dotenv, find_dotenv\n",
    "import os\n",
    "import pywhatkit\n",
    "import datetime as dt\n"
   ]
  },
  {
   "cell_type": "code",
   "execution_count": 2,
   "id": "327c948d",
   "metadata": {
    "ExecuteTime": {
     "end_time": "2021-07-02T11:31:38.557295Z",
     "start_time": "2021-07-02T11:31:38.550886Z"
    }
   },
   "outputs": [],
   "source": [
    "# get destined phone number\n",
    "load_dotenv(find_dotenv())\n",
    "PHONE = os.environ.get(\"PHONE\")\n",
    "GROUP = os.environ.get(\"GROUP\")"
   ]
  },
  {
   "cell_type": "code",
   "execution_count": 8,
   "id": "b30c26ca",
   "metadata": {
    "ExecuteTime": {
     "end_time": "2021-07-02T11:39:06.022189Z",
     "start_time": "2021-07-02T11:39:06.017686Z"
    },
    "scrolled": true
   },
   "outputs": [],
   "source": [
    "# define current time\n",
    "def get_time(wait_time=20):\n",
    "    \"\"\"\n",
    "    returns current time + given wait time, to find the next possible minute for send msg.\n",
    "    \"\"\"\n",
    "    add = dt.timedelta(seconds = wait_time + 5)\n",
    "    time = dt.datetime.now() + add\n",
    "    return time"
   ]
  },
  {
   "cell_type": "code",
   "execution_count": 4,
   "id": "b9012282",
   "metadata": {
    "ExecuteTime": {
     "end_time": "2021-07-02T11:31:38.568303Z",
     "start_time": "2021-07-02T11:31:38.563338Z"
    }
   },
   "outputs": [
    {
     "ename": "SyntaxError",
     "evalue": "positional argument follows keyword argument (3640210694.py, line 8)",
     "output_type": "error",
     "traceback": [
      "\u001b[0;36m  File \u001b[0;32m\"/var/folders/fg/10s82l0s4xq7b9ld1yn3k2j80000gn/T/ipykernel_63225/3640210694.py\"\u001b[0;36m, line \u001b[0;32m8\u001b[0m\n\u001b[0;31m    tab_close=True)\u001b[0m\n\u001b[0m                  ^\u001b[0m\n\u001b[0;31mSyntaxError\u001b[0m\u001b[0;31m:\u001b[0m positional argument follows keyword argument\n"
     ]
    }
   ],
   "source": [
    "# send msg\n",
    "def send_msg(PHONE, message, time, wait_time):\n",
    "    \"\"\"\n",
    "    Sends msgs to numbers. Single contacts. \n",
    "    Takes phone number as argument.\n",
    "    \"\"\"\n",
    "    _ = pywhatkit.sendwhatmsg(phone_no=PHONE, \n",
    "                      message=message, \n",
    "                      time_hour=time.hour, \n",
    "                      time_min=time.minute+1,\n",
    "                      wait_time=wait_time,\n",
    "                      tab_close=True)\n",
    "\n",
    "message = 'You are special in my heart, sweetie. Forever will you, darling.'\n",
    "# actually sending\n",
    "send_msg(message, get_time(), wait_time=20, PHONE)"
   ]
  },
  {
   "cell_type": "code",
   "execution_count": 10,
   "id": "7fdc821e",
   "metadata": {
    "ExecuteTime": {
     "end_time": "2021-07-02T11:42:04.015353Z",
     "start_time": "2021-07-02T11:41:28.619592Z"
    }
   },
   "outputs": [
    {
     "name": "stdout",
     "output_type": "stream",
     "text": [
      "In 12 seconds web.whatsapp.com will open and after 20 seconds message will be delivered\n"
     ]
    }
   ],
   "source": [
    "def send_msg_group(GROUP, message, time, wait_time):\n",
    "    \"\"\"\n",
    "    Sends msgs to groups. Takes group ID as argument.\n",
    "    \"\"\"\n",
    "    _ = pywhatkit.sendwhatmsg_to_group(group_id=GROUP, \n",
    "                     message=message, \n",
    "                     time_hour=time.hour, \n",
    "                     time_min=time.minute+1, \n",
    "                     wait_time=wait_time, \n",
    "                     print_wait_time=True, \n",
    "                     tab_close=True,                   \n",
    "                    )\n",
    "\n",
    "message='Testnachricht von nem Bot'\n",
    "# actually sending\n",
    "send_msg_group(GROUP, message, get_time(), wait_time=20)"
   ]
  },
  {
   "cell_type": "code",
   "execution_count": null,
   "id": "5dbb0750",
   "metadata": {},
   "outputs": [],
   "source": []
  },
  {
   "cell_type": "code",
   "execution_count": null,
   "id": "61341777",
   "metadata": {},
   "outputs": [],
   "source": []
  }
 ],
 "metadata": {
  "kernelspec": {
   "display_name": "Python 3",
   "language": "python",
   "name": "python3"
  },
  "language_info": {
   "codemirror_mode": {
    "name": "ipython",
    "version": 3
   },
   "file_extension": ".py",
   "mimetype": "text/x-python",
   "name": "python",
   "nbconvert_exporter": "python",
   "pygments_lexer": "ipython3",
   "version": "3.8.6"
  },
  "toc": {
   "base_numbering": 1,
   "nav_menu": {},
   "number_sections": true,
   "sideBar": true,
   "skip_h1_title": false,
   "title_cell": "Table of Contents",
   "title_sidebar": "Contents",
   "toc_cell": false,
   "toc_position": {},
   "toc_section_display": true,
   "toc_window_display": false
  }
 },
 "nbformat": 4,
 "nbformat_minor": 5
}
