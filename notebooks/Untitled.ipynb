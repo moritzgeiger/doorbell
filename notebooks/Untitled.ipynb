{
 "cells": [
  {
   "cell_type": "code",
   "execution_count": 125,
   "id": "5b27053a",
   "metadata": {},
   "outputs": [
    {
     "name": "stdout",
     "output_type": "stream",
     "text": [
      "Office\n",
      "Living Room\n",
      "Bedroom\n"
     ]
    }
   ],
   "source": [
    "from soco import SoCo\n",
    "import soco\n",
    "for zone in soco.discover():\n",
    "    print(zone.player_name)"
   ]
  },
  {
   "cell_type": "code",
   "execution_count": 82,
   "id": "2addf113",
   "metadata": {},
   "outputs": [],
   "source": [
    "import time"
   ]
  },
  {
   "cell_type": "code",
   "execution_count": 173,
   "id": "dec6c83d",
   "metadata": {},
   "outputs": [],
   "source": [
    "devices = {device.player_name: device for device in soco.discover()}\n",
    "sp = devices[speaker]"
   ]
  },
  {
   "cell_type": "code",
   "execution_count": 184,
   "id": "0437b83e",
   "metadata": {},
   "outputs": [
    {
     "data": {
      "text/plain": [
       "{'current_transport_status': 'OK',\n",
       " 'current_transport_state': 'PLAYING',\n",
       " 'current_transport_speed': '1'}"
      ]
     },
     "execution_count": 184,
     "metadata": {},
     "output_type": "execute_result"
    }
   ],
   "source": [
    "sp.get_current_transport_info()"
   ]
  },
  {
   "cell_type": "code",
   "execution_count": 164,
   "id": "b57d4d33",
   "metadata": {},
   "outputs": [
    {
     "name": "stdout",
     "output_type": "stream",
     "text": [
      "yes\n"
     ]
    }
   ],
   "source": [
    "if sp.get_queue():\n",
    "    print('yes')\n",
    "else:\n",
    "    print('no')"
   ]
  },
  {
   "cell_type": "code",
   "execution_count": 198,
   "id": "a4895a78",
   "metadata": {},
   "outputs": [
    {
     "data": {
      "text/plain": [
       "'0:01:55'"
      ]
     },
     "execution_count": 198,
     "metadata": {},
     "output_type": "execute_result"
    }
   ],
   "source": [
    "sp.get_current_track_info().get('position')"
   ]
  },
  {
   "cell_type": "code",
   "execution_count": 105,
   "id": "36659fdf",
   "metadata": {},
   "outputs": [],
   "source": [
    "url = 'https://storage.googleapis.com/bank_price_pdfs/klingelstreich.mp3'"
   ]
  },
  {
   "cell_type": "code",
   "execution_count": 213,
   "id": "577a5dff",
   "metadata": {},
   "outputs": [
    {
     "name": "stdout",
     "output_type": "stream",
     "text": [
      "injecting and playing song...\n",
      "returning to old queue.\n"
     ]
    }
   ],
   "source": [
    "# set designated speaker\n",
    "speaker = 'Office'\n",
    "\n",
    "\n",
    "def play_song(speaker, url, playtime):\n",
    "    \"\"\"\n",
    "    Takes in the string of a speaker name and a playable .mp3 URL file or radio station.\n",
    "    Injects the song into the playlist and plays it on the designated speaker.\n",
    "    \"\"\"\n",
    "        \n",
    "    try:\n",
    "        #find all devices and set the seeked one\n",
    "        devices = {device.player_name: device for device in soco.discover()}\n",
    "        sp = devices[speaker]\n",
    "        prev_queue = sp.get_queue()\n",
    "        play_mode = sp.get_current_transport_info()\n",
    "        \n",
    "        if play_mode.get('current_transport_state') == 'PLAYING':\n",
    "            # save previous settings\n",
    "            prev_vol = sp.volume\n",
    "            get_pos = int(sp.get_current_track_info().get('playlist_position')) # base is 1\n",
    "            get_seek = sp.get_current_track_info().get('position')\n",
    "\n",
    "            # play the song\n",
    "            print('injecting and playing song...')\n",
    "            sp.volume = 3\n",
    "            sp.add_uri_to_queue(url, position=get_pos+1)\n",
    "            sp.next()\n",
    "            sp.play()\n",
    "            \n",
    "            # set play time\n",
    "            time.sleep(playtime)\n",
    "\n",
    "            # get back to the old queue\n",
    "            print('returning to old queue.')\n",
    "            sp.clear_queue()\n",
    "            sp.add_multiple_to_queue(prev_queue)\n",
    "            sp.volume = prev_vol\n",
    "            sp.play_from_queue(get_pos-1) # base is 0\n",
    "            sp.seek(get_seek)\n",
    "        \n",
    "        else:\n",
    "            print('playing song...')\n",
    "            sp.volume = 3\n",
    "            sp.play_uri(url)\n",
    "            time.sleep(playtime)\n",
    "            sp.pause()\n",
    "            sp.clear_queue()\n",
    "            sp.add_multiple_to_queue(prev_queue)\n",
    "\n",
    "    except KeyError:\n",
    "        print(f'speaker {speaker} not found')\n",
    "    \n",
    "play_song(speaker, url, playtime=5)"
   ]
  },
  {
   "cell_type": "code",
   "execution_count": 138,
   "id": "d2acf4bb",
   "metadata": {},
   "outputs": [
    {
     "data": {
      "text/plain": [
       "1"
      ]
     },
     "execution_count": 138,
     "metadata": {},
     "output_type": "execute_result"
    }
   ],
   "source": [
    "int(of.get_current_track_info().get('playlist_position'))"
   ]
  },
  {
   "cell_type": "code",
   "execution_count": 91,
   "id": "b9d63121",
   "metadata": {},
   "outputs": [],
   "source": [
    "of.add_multiple_to_queue(prev_queue)"
   ]
  },
  {
   "cell_type": "code",
   "execution_count": 100,
   "id": "f55f9add",
   "metadata": {},
   "outputs": [
    {
     "data": {
      "text/plain": [
       "Queue(items=[<DidlItem 'b''' at 0x1117d6fa0>, <DidlMusicTrack 'b'klingelstreich.mp3'' at 0x1117d6520>, <DidlItem 'b''' at 0x1117d6070>, <DidlItem 'b''' at 0x1117d68b0>, <DidlItem 'b''' at 0x1117d6490>, <DidlItem 'b''' at 0x1117d6910>, <DidlItem 'b''' at 0x1117d67f0>, <DidlItem 'b''' at 0x1117d6040>, <DidlItem 'b''' at 0x1117d6d30>, <DidlItem 'b''' at 0x1117d6ee0>, <DidlItem 'b''' at 0x11207b910>, <DidlItem 'b''' at 0x11207bbe0>])"
      ]
     },
     "execution_count": 100,
     "metadata": {},
     "output_type": "execute_result"
    }
   ],
   "source": [
    "prev_queue"
   ]
  },
  {
   "cell_type": "code",
   "execution_count": null,
   "id": "1cef3470",
   "metadata": {},
   "outputs": [],
   "source": []
  }
 ],
 "metadata": {
  "kernelspec": {
   "display_name": "Python 3",
   "language": "python",
   "name": "python3"
  },
  "language_info": {
   "codemirror_mode": {
    "name": "ipython",
    "version": 3
   },
   "file_extension": ".py",
   "mimetype": "text/x-python",
   "name": "python",
   "nbconvert_exporter": "python",
   "pygments_lexer": "ipython3",
   "version": "3.8.6"
  },
  "toc": {
   "base_numbering": 1,
   "nav_menu": {},
   "number_sections": true,
   "sideBar": true,
   "skip_h1_title": false,
   "title_cell": "Table of Contents",
   "title_sidebar": "Contents",
   "toc_cell": false,
   "toc_position": {},
   "toc_section_display": true,
   "toc_window_display": false
  }
 },
 "nbformat": 4,
 "nbformat_minor": 5
}
