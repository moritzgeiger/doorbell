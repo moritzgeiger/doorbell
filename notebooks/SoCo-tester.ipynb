{
 "cells": [
  {
   "cell_type": "code",
   "execution_count": 3,
   "id": "b3388c8e",
   "metadata": {},
   "outputs": [
    {
     "name": "stdout",
     "output_type": "stream",
     "text": [
      "0.23.3\n"
     ]
    }
   ],
   "source": [
    "import soco\n",
    "print(soco.__version__)"
   ]
  },
  {
   "cell_type": "code",
   "execution_count": 4,
   "id": "152d30c7",
   "metadata": {
    "ExecuteTime": {
     "end_time": "2021-08-31T16:34:43.644763Z",
     "start_time": "2021-08-31T16:34:43.293828Z"
    }
   },
   "outputs": [
    {
     "ename": "TypeError",
     "evalue": "'NoneType' object is not iterable",
     "output_type": "error",
     "traceback": [
      "\u001b[0;31m---------------------------------------------------------------------------\u001b[0m",
      "\u001b[0;31mTypeError\u001b[0m                                 Traceback (most recent call last)",
      "\u001b[0;32m/tmp/ipykernel_29458/2568641280.py\u001b[0m in \u001b[0;36m<module>\u001b[0;34m\u001b[0m\n\u001b[1;32m      1\u001b[0m \u001b[0;32mfrom\u001b[0m \u001b[0msoco\u001b[0m \u001b[0;32mimport\u001b[0m \u001b[0mSoCo\u001b[0m\u001b[0;34m,\u001b[0m \u001b[0msnapshot\u001b[0m\u001b[0;34m\u001b[0m\u001b[0;34m\u001b[0m\u001b[0m\n\u001b[1;32m      2\u001b[0m \u001b[0;32mimport\u001b[0m \u001b[0msoco\u001b[0m\u001b[0;34m\u001b[0m\u001b[0;34m\u001b[0m\u001b[0m\n\u001b[0;32m----> 3\u001b[0;31m \u001b[0;32mfor\u001b[0m \u001b[0mzone\u001b[0m \u001b[0;32min\u001b[0m \u001b[0msoco\u001b[0m\u001b[0;34m.\u001b[0m\u001b[0mdiscover\u001b[0m\u001b[0;34m(\u001b[0m\u001b[0;34m)\u001b[0m\u001b[0;34m:\u001b[0m\u001b[0;34m\u001b[0m\u001b[0;34m\u001b[0m\u001b[0m\n\u001b[0m\u001b[1;32m      4\u001b[0m     \u001b[0mprint\u001b[0m\u001b[0;34m(\u001b[0m\u001b[0mzone\u001b[0m\u001b[0;34m.\u001b[0m\u001b[0mplayer_name\u001b[0m\u001b[0;34m)\u001b[0m\u001b[0;34m\u001b[0m\u001b[0;34m\u001b[0m\u001b[0m\n",
      "\u001b[0;31mTypeError\u001b[0m: 'NoneType' object is not iterable"
     ]
    }
   ],
   "source": [
    "from soco import SoCo, snapshot\n",
    "import soco\n",
    "for zone in soco.discover():\n",
    "    print(zone.player_name)"
   ]
  },
  {
   "cell_type": "code",
   "execution_count": 6,
   "id": "aff318bf",
   "metadata": {},
   "outputs": [],
   "source": [
    "soco.discovery.any_soco()"
   ]
  },
  {
   "cell_type": "code",
   "execution_count": 9,
   "id": "9487b55c",
   "metadata": {
    "ExecuteTime": {
     "end_time": "2021-08-31T16:34:43.652980Z",
     "start_time": "2021-08-31T16:34:43.649532Z"
    }
   },
   "outputs": [],
   "source": [
    "import time"
   ]
  },
  {
   "cell_type": "code",
   "execution_count": 10,
   "id": "ee7bb098",
   "metadata": {
    "ExecuteTime": {
     "end_time": "2021-08-31T16:34:43.819820Z",
     "start_time": "2021-08-31T16:34:43.655892Z"
    }
   },
   "outputs": [],
   "source": [
    "devices = {device.player_name: device for device in soco.discover()}\n",
    "sp = devices.get('Living Room')"
   ]
  },
  {
   "cell_type": "code",
   "execution_count": 66,
   "id": "9f39b586",
   "metadata": {
    "ExecuteTime": {
     "end_time": "2021-08-31T17:07:47.636791Z",
     "start_time": "2021-08-31T17:07:47.603412Z"
    }
   },
   "outputs": [],
   "source": [
    "uri = sp.avTransport.GetMediaInfo([(\"InstanceID\", 0)]).get('CurrentURI')"
   ]
  },
  {
   "cell_type": "code",
   "execution_count": 67,
   "id": "b1ed40cc",
   "metadata": {
    "ExecuteTime": {
     "end_time": "2021-08-31T17:07:48.229123Z",
     "start_time": "2021-08-31T17:07:48.205810Z"
    }
   },
   "outputs": [
    {
     "data": {
      "text/plain": [
       "{'NrTracks': '13',\n",
       " 'MediaDuration': 'NOT_IMPLEMENTED',\n",
       " 'CurrentURI': 'x-sonosapi-radio:sonos%3a3008?sid=303&flags=8296&sn=6',\n",
       " 'CurrentURIMetaData': '<DIDL-Lite xmlns:dc=\"http://purl.org/dc/elements/1.1/\" xmlns:upnp=\"urn:schemas-upnp-org:metadata-1-0/upnp/\" xmlns:r=\"urn:schemas-rinconnetworks-com:metadata-1-0/\" xmlns=\"urn:schemas-upnp-org:metadata-1-0/DIDL-Lite/\"><item id=\"100c2068sonos%3a3008\" parentID=\"00081004%2fstations%2fen-US%2fNL%2fc2Q6Tkw6ZGFuY2UtcGFydHk\" restricted=\"true\"><dc:title>Rap Game</dc:title><upnp:class>object.item.audioItem.audioBroadcast.#list-genre</upnp:class><dc:creator>Current Hip Hop</dc:creator><upnp:albumArtURI>https://sonosradio.imgix.net/placeholders/7c76b528377249ed372c40295700759a_09.png?w=200&amp;auto=format,compress</upnp:albumArtURI><r:albumArtist>Current Hip Hop</r:albumArtist><r:description>Dance Party</r:description><desc id=\"cdudn\" nameSpace=\"urn:schemas-rinconnetworks-com:metadata-1-0/\">SA_RINCON77575_X_#Svc77575-21d7d928-Token</desc></item></DIDL-Lite>',\n",
       " 'NextURI': '',\n",
       " 'NextURIMetaData': '',\n",
       " 'PlayMedium': 'NETWORK',\n",
       " 'RecordMedium': 'NOT_IMPLEMENTED',\n",
       " 'WriteStatus': 'NOT_IMPLEMENTED'}"
      ]
     },
     "execution_count": 67,
     "metadata": {},
     "output_type": "execute_result"
    }
   ],
   "source": [
    "sp.avTransport.GetMediaInfo([(\"InstanceID\", 0)])"
   ]
  },
  {
   "cell_type": "code",
   "execution_count": 64,
   "id": "d85db9ae",
   "metadata": {
    "ExecuteTime": {
     "end_time": "2021-08-31T17:06:27.590264Z",
     "start_time": "2021-08-31T17:06:27.585100Z"
    }
   },
   "outputs": [
    {
     "data": {
      "text/plain": [
       "'x-sonosapi-stream:tunein%3a4574?sid=303&flags=8224&sn=6'"
      ]
     },
     "execution_count": 64,
     "metadata": {},
     "output_type": "execute_result"
    }
   ],
   "source": [
    "uri"
   ]
  },
  {
   "cell_type": "code",
   "execution_count": 41,
   "id": "88240162",
   "metadata": {
    "ExecuteTime": {
     "end_time": "2021-08-31T16:43:37.135285Z",
     "start_time": "2021-08-31T16:43:34.444861Z"
    }
   },
   "outputs": [],
   "source": [
    "sp.play_uri(uri)"
   ]
  },
  {
   "cell_type": "code",
   "execution_count": 30,
   "id": "f18cfc73",
   "metadata": {
    "ExecuteTime": {
     "end_time": "2021-08-31T16:41:24.051523Z",
     "start_time": "2021-08-31T16:41:24.017728Z"
    }
   },
   "outputs": [
    {
     "data": {
      "text/plain": [
       "{'current_transport_status': 'OK',\n",
       " 'current_transport_state': 'PLAYING',\n",
       " 'current_transport_speed': '1'}"
      ]
     },
     "execution_count": 30,
     "metadata": {},
     "output_type": "execute_result"
    }
   ],
   "source": [
    "sp.get_current_transport_info()"
   ]
  },
  {
   "cell_type": "code",
   "execution_count": 12,
   "id": "7ed39ad5",
   "metadata": {
    "ExecuteTime": {
     "end_time": "2021-08-31T16:34:44.130617Z",
     "start_time": "2021-08-31T16:34:43.853853Z"
    }
   },
   "outputs": [],
   "source": [
    "url = 'https://www.clubfmserver.be/radioclubfm.mp3'\n",
    "devices = {device.player_name: device for device in soco.discover()}\n",
    "sp = devices.get('Living Room')"
   ]
  },
  {
   "cell_type": "code",
   "execution_count": 14,
   "id": "c6add12a",
   "metadata": {
    "ExecuteTime": {
     "end_time": "2021-08-31T16:35:12.962840Z",
     "start_time": "2021-08-31T16:35:12.959486Z"
    }
   },
   "outputs": [],
   "source": [
    "speaker = 'Living Room'"
   ]
  },
  {
   "cell_type": "code",
   "execution_count": 15,
   "id": "365f14c3",
   "metadata": {
    "ExecuteTime": {
     "end_time": "2021-08-31T16:35:14.282815Z",
     "start_time": "2021-08-31T16:35:14.270146Z"
    }
   },
   "outputs": [],
   "source": [
    "def new(speaker, url, playtime):\n",
    "    \n",
    "    \n",
    "    try:\n",
    "        #find all devices and set the seeked one\n",
    "        devices = {device.player_name: device for device in soco.discover()}\n",
    "        sp = devices[speaker]\n",
    "    #     prev_queue = sp.get_queue()\n",
    "        snap = snapshot.Snapshot(sp, snapshot_queue=True)\n",
    "        _ = snap.snapshot()\n",
    "        play_mode = sp.get_current_transport_info()\n",
    "\n",
    "        if play_mode.get('current_transport_state') == 'PLAYING':\n",
    "            # save previous settings\n",
    "    #         prev_vol = sp.volume\n",
    "            get_pos = int(sp.get_current_track_info().get('playlist_position')) # base is 1\n",
    "    #         get_seek = sp.get_current_track_info().get('position')\n",
    "\n",
    "            # play the song\n",
    "            print('injecting and playing song...')\n",
    "    #         sp.volume = 3\n",
    "    #         sp.add_uri_to_queue(url, position=get_pos+1)\n",
    "    #         sp.next()\n",
    "    #         sp.play()\n",
    "            sp.play_uri(url)\n",
    "\n",
    "            # set play time\n",
    "            time.sleep(playtime)\n",
    "\n",
    "            # get back to the old queue\n",
    "            print('returning to old queue.')\n",
    "            snap.restore(fade=True)\n",
    "    #         sp.clear_queue()\n",
    "    #         sp.add_multiple_to_queue(prev_queue)\n",
    "    #         sp.volume = prev_vol\n",
    "    #         sp.play_from_queue(get_pos-1) # base is 0\n",
    "    #         sp.seek(get_seek)\n",
    "\n",
    "        else:\n",
    "            print('playing song...')\n",
    "            sp.volume = 3\n",
    "            sp.play_uri(url)\n",
    "            time.sleep(playtime)\n",
    "    #         sp.pause()\n",
    "    #         sp.clear_queue()\n",
    "    #         sp.add_multiple_to_queue(prev_queue)\n",
    "            snap.restore()\n",
    "\n",
    "    except KeyError:\n",
    "        print(f'speaker {speaker} not found')\n",
    "\n"
   ]
  },
  {
   "cell_type": "code",
   "execution_count": 16,
   "id": "0ab7d3d2",
   "metadata": {
    "ExecuteTime": {
     "end_time": "2021-08-31T16:35:18.573865Z",
     "start_time": "2021-08-31T16:35:14.452118Z"
    }
   },
   "outputs": [
    {
     "name": "stdout",
     "output_type": "stream",
     "text": [
      "injecting and playing song...\n",
      "returning to old queue.\n"
     ]
    },
    {
     "ename": "AttributeError",
     "evalue": "'DidlMusicTrack' object has no attribute 'uri'",
     "output_type": "error",
     "traceback": [
      "\u001b[0;31m---------------------------------------------------------------------------\u001b[0m",
      "\u001b[0;31mAttributeError\u001b[0m                            Traceback (most recent call last)",
      "\u001b[0;32m/var/folders/fg/10s82l0s4xq7b9ld1yn3k2j80000gn/T/ipykernel_7787/3019654772.py\u001b[0m in \u001b[0;36m<module>\u001b[0;34m\u001b[0m\n\u001b[0;32m----> 1\u001b[0;31m \u001b[0mnew\u001b[0m\u001b[0;34m(\u001b[0m\u001b[0mspeaker\u001b[0m\u001b[0;34m,\u001b[0m \u001b[0murl\u001b[0m\u001b[0;34m,\u001b[0m \u001b[0mplaytime\u001b[0m\u001b[0;34m=\u001b[0m\u001b[0;36m3\u001b[0m\u001b[0;34m)\u001b[0m\u001b[0;34m\u001b[0m\u001b[0;34m\u001b[0m\u001b[0m\n\u001b[0m",
      "\u001b[0;32m/var/folders/fg/10s82l0s4xq7b9ld1yn3k2j80000gn/T/ipykernel_7787/2315551996.py\u001b[0m in \u001b[0;36mnew\u001b[0;34m(speaker, url, playtime)\u001b[0m\n\u001b[1;32m     30\u001b[0m             \u001b[0;31m# get back to the old queue\u001b[0m\u001b[0;34m\u001b[0m\u001b[0;34m\u001b[0m\u001b[0;34m\u001b[0m\u001b[0m\n\u001b[1;32m     31\u001b[0m             \u001b[0mprint\u001b[0m\u001b[0;34m(\u001b[0m\u001b[0;34m'returning to old queue.'\u001b[0m\u001b[0;34m)\u001b[0m\u001b[0;34m\u001b[0m\u001b[0;34m\u001b[0m\u001b[0m\n\u001b[0;32m---> 32\u001b[0;31m             \u001b[0msnap\u001b[0m\u001b[0;34m.\u001b[0m\u001b[0mrestore\u001b[0m\u001b[0;34m(\u001b[0m\u001b[0mfade\u001b[0m\u001b[0;34m=\u001b[0m\u001b[0;32mTrue\u001b[0m\u001b[0;34m)\u001b[0m\u001b[0;34m\u001b[0m\u001b[0;34m\u001b[0m\u001b[0m\n\u001b[0m\u001b[1;32m     33\u001b[0m     \u001b[0;31m#         sp.clear_queue()\u001b[0m\u001b[0;34m\u001b[0m\u001b[0;34m\u001b[0m\u001b[0;34m\u001b[0m\u001b[0m\n\u001b[1;32m     34\u001b[0m     \u001b[0;31m#         sp.add_multiple_to_queue(prev_queue)\u001b[0m\u001b[0;34m\u001b[0m\u001b[0;34m\u001b[0m\u001b[0;34m\u001b[0m\u001b[0m\n",
      "\u001b[0;32m~/.pyenv/versions/3.9.0/envs/doorbell_3.9.0/lib/python3.9/site-packages/soco/snapshot.py\u001b[0m in \u001b[0;36mrestore\u001b[0;34m(self, fade)\u001b[0m\n\u001b[1;32m    169\u001b[0m         \u001b[0;32mtry\u001b[0m\u001b[0;34m:\u001b[0m\u001b[0;34m\u001b[0m\u001b[0;34m\u001b[0m\u001b[0m\n\u001b[1;32m    170\u001b[0m             \u001b[0;32mif\u001b[0m \u001b[0mself\u001b[0m\u001b[0;34m.\u001b[0m\u001b[0mis_coordinator\u001b[0m\u001b[0;34m:\u001b[0m\u001b[0;34m\u001b[0m\u001b[0;34m\u001b[0m\u001b[0m\n\u001b[0;32m--> 171\u001b[0;31m                 \u001b[0mself\u001b[0m\u001b[0;34m.\u001b[0m\u001b[0m_restore_coordinator\u001b[0m\u001b[0;34m(\u001b[0m\u001b[0;34m)\u001b[0m\u001b[0;34m\u001b[0m\u001b[0;34m\u001b[0m\u001b[0m\n\u001b[0m\u001b[1;32m    172\u001b[0m         \u001b[0;32mfinally\u001b[0m\u001b[0;34m:\u001b[0m\u001b[0;34m\u001b[0m\u001b[0;34m\u001b[0m\u001b[0m\n\u001b[1;32m    173\u001b[0m             \u001b[0mself\u001b[0m\u001b[0;34m.\u001b[0m\u001b[0m_restore_volume\u001b[0m\u001b[0;34m(\u001b[0m\u001b[0mfade\u001b[0m\u001b[0;34m)\u001b[0m\u001b[0;34m\u001b[0m\u001b[0;34m\u001b[0m\u001b[0m\n",
      "\u001b[0;32m~/.pyenv/versions/3.9.0/envs/doorbell_3.9.0/lib/python3.9/site-packages/soco/snapshot.py\u001b[0m in \u001b[0;36m_restore_coordinator\u001b[0;34m(self)\u001b[0m\n\u001b[1;32m    192\u001b[0m \u001b[0;34m\u001b[0m\u001b[0m\n\u001b[1;32m    193\u001b[0m         \u001b[0;31m# Check if the queue should be restored\u001b[0m\u001b[0;34m\u001b[0m\u001b[0;34m\u001b[0m\u001b[0;34m\u001b[0m\u001b[0m\n\u001b[0;32m--> 194\u001b[0;31m         \u001b[0mself\u001b[0m\u001b[0;34m.\u001b[0m\u001b[0m_restore_queue\u001b[0m\u001b[0;34m(\u001b[0m\u001b[0;34m)\u001b[0m\u001b[0;34m\u001b[0m\u001b[0;34m\u001b[0m\u001b[0m\n\u001b[0m\u001b[1;32m    195\u001b[0m \u001b[0;34m\u001b[0m\u001b[0m\n\u001b[1;32m    196\u001b[0m         \u001b[0;31m# Reinstate what was playing\u001b[0m\u001b[0;34m\u001b[0m\u001b[0;34m\u001b[0m\u001b[0;34m\u001b[0m\u001b[0m\n",
      "\u001b[0;32m~/.pyenv/versions/3.9.0/envs/doorbell_3.9.0/lib/python3.9/site-packages/soco/snapshot.py\u001b[0m in \u001b[0;36m_restore_queue\u001b[0;34m(self)\u001b[0m\n\u001b[1;32m    295\u001b[0m             \u001b[0;32mfor\u001b[0m \u001b[0mqueue_group\u001b[0m \u001b[0;32min\u001b[0m \u001b[0mself\u001b[0m\u001b[0;34m.\u001b[0m\u001b[0mqueue\u001b[0m\u001b[0;34m:\u001b[0m\u001b[0;34m\u001b[0m\u001b[0;34m\u001b[0m\u001b[0m\n\u001b[1;32m    296\u001b[0m                 \u001b[0;32mfor\u001b[0m \u001b[0mqueue_item\u001b[0m \u001b[0;32min\u001b[0m \u001b[0mqueue_group\u001b[0m\u001b[0;34m:\u001b[0m\u001b[0;34m\u001b[0m\u001b[0;34m\u001b[0m\u001b[0m\n\u001b[0;32m--> 297\u001b[0;31m                     \u001b[0mself\u001b[0m\u001b[0;34m.\u001b[0m\u001b[0mdevice\u001b[0m\u001b[0;34m.\u001b[0m\u001b[0madd_uri_to_queue\u001b[0m\u001b[0;34m(\u001b[0m\u001b[0mqueue_item\u001b[0m\u001b[0;34m.\u001b[0m\u001b[0muri\u001b[0m\u001b[0;34m)\u001b[0m\u001b[0;34m\u001b[0m\u001b[0;34m\u001b[0m\u001b[0m\n\u001b[0m\u001b[1;32m    298\u001b[0m \u001b[0;34m\u001b[0m\u001b[0m\n\u001b[1;32m    299\u001b[0m     \u001b[0;32mdef\u001b[0m \u001b[0m__enter__\u001b[0m\u001b[0;34m(\u001b[0m\u001b[0mself\u001b[0m\u001b[0;34m)\u001b[0m\u001b[0;34m:\u001b[0m\u001b[0;34m\u001b[0m\u001b[0;34m\u001b[0m\u001b[0m\n",
      "\u001b[0;31mAttributeError\u001b[0m: 'DidlMusicTrack' object has no attribute 'uri'"
     ]
    }
   ],
   "source": [
    "new(speaker, url, playtime=3)"
   ]
  },
  {
   "cell_type": "code",
   "execution_count": 16,
   "id": "734d9a0f",
   "metadata": {
    "ExecuteTime": {
     "end_time": "2021-08-31T15:50:44.024089Z",
     "start_time": "2021-08-31T15:50:41.765081Z"
    }
   },
   "outputs": [
    {
     "data": {
      "text/plain": [
       "{SoCo(\"192.168.0.28\"), SoCo(\"192.168.0.32\"), SoCo(\"192.168.0.38\")}"
      ]
     },
     "execution_count": 16,
     "metadata": {},
     "output_type": "execute_result"
    }
   ],
   "source": [
    "soco.discover()"
   ]
  },
  {
   "cell_type": "code",
   "execution_count": 17,
   "id": "fa26b18f",
   "metadata": {
    "ExecuteTime": {
     "end_time": "2021-08-31T15:50:52.978208Z",
     "start_time": "2021-08-31T15:50:52.930149Z"
    }
   },
   "outputs": [],
   "source": [
    "SoCo(\"192.168.0.28\").play()"
   ]
  },
  {
   "cell_type": "code",
   "execution_count": 21,
   "id": "a842c9b3",
   "metadata": {
    "ExecuteTime": {
     "end_time": "2021-08-31T15:51:54.747330Z",
     "start_time": "2021-08-31T15:51:54.353320Z"
    }
   },
   "outputs": [],
   "source": []
  },
  {
   "cell_type": "code",
   "execution_count": 70,
   "id": "bbe5f661",
   "metadata": {
    "ExecuteTime": {
     "end_time": "2021-08-31T17:10:00.346777Z",
     "start_time": "2021-08-31T17:09:47.989133Z"
    }
   },
   "outputs": [
    {
     "name": "stdout",
     "output_type": "stream",
     "text": [
      "handling radio interruption.\n",
      "restored old radio state.\n"
     ]
    }
   ],
   "source": [
    "# set designated speaker\n",
    "speaker = 'Living Room'\n",
    "\n",
    "\n",
    "def play_song(speaker, url, playtime):\n",
    "    \"\"\"\n",
    "    Takes in the string of a speaker name and a playable .mp3 URL file or radio station.\n",
    "    Injects the song into the playlist and plays it on the designated speaker.\n",
    "    \"\"\"\n",
    "\n",
    "    try:\n",
    "        #find all devices and set the seeked one\n",
    "        devices = {device.player_name: device for device in soco.discover()}\n",
    "        sp = devices[speaker]\n",
    "        uri = sp.avTransport.GetMediaInfo([(\"InstanceID\", 0)]).get('CurrentURI')\n",
    "        meta = sp.avTransport.GetMediaInfo([(\"InstanceID\", 0)]).get('CurrentURIMetaData')\n",
    "        play_mode = sp.get_current_transport_info()\n",
    "        \n",
    "        if play_mode.get('current_transport_state') == 'PLAYING':\n",
    "            if any(x in uri for x in ['radio', 'stream']):\n",
    "                print('handling radio interruption.')\n",
    "                # handle radio stations differently, they don't have .next()\n",
    "                sp.colume = 25\n",
    "                sp.play_uri(url)\n",
    "                time.sleep(playtime)\n",
    "                sp.stop()\n",
    "                sp.clear_queue()\n",
    "                sp.play_uri(uri, meta=meta)\n",
    "                print('restored old radio state.')\n",
    "        \n",
    "            else:\n",
    "                print('handling queue interruption.')\n",
    "                prev_queue = sp.get_queue()\n",
    "                play_mode = sp.get_current_transport_info()\n",
    "                # save previous settings\n",
    "                prev_vol = sp.volume\n",
    "                get_pos = int(sp.get_current_track_info().get('playlist_position')) # base is 1\n",
    "                get_seek = sp.get_current_track_info().get('position')\n",
    "\n",
    "                # play the song\n",
    "                print('injecting and playing song...')\n",
    "                sp.volume = 25\n",
    "                sp.add_uri_to_queue(url, position=get_pos+1)\n",
    "                sp.next()\n",
    "                sp.play()\n",
    "\n",
    "                # set play time\n",
    "                time.sleep(playtime)\n",
    "\n",
    "                # get back to the old queue\n",
    "                print('returning to old queue.')\n",
    "                sp.clear_queue()\n",
    "                sp.add_multiple_to_queue(prev_queue)\n",
    "                sp.volume = prev_vol\n",
    "                sp.play_from_queue(get_pos-1) # base is 0\n",
    "                sp.seek(get_seek)\n",
    "                print('restored old queue state.')\n",
    "        \n",
    "        else:\n",
    "            print('playing song...')\n",
    "            sp.volume = 25\n",
    "            sp.play_uri(url)\n",
    "            time.sleep(playtime)\n",
    "            sp.pause()\n",
    "            sp.clear_queue()\n",
    "            if 'radio' in uri:\n",
    "                print('restoring radio to player without playing.')\n",
    "                sp.play_uri(uri)\n",
    "                sp.stop()\n",
    "            else:\n",
    "                print('restoring old queue to player.')\n",
    "                sp.add_multiple_to_queue(prev_queue)\n",
    "\n",
    "    except KeyError:\n",
    "        print(f'speaker {speaker} not found')\n",
    "    \n",
    "play_song(speaker, url, playtime=5)"
   ]
  },
  {
   "cell_type": "code",
   "execution_count": 23,
   "id": "d7d0dc11",
   "metadata": {
    "ExecuteTime": {
     "end_time": "2021-08-31T15:52:36.693967Z",
     "start_time": "2021-08-31T15:52:36.684700Z"
    }
   },
   "outputs": [
    {
     "ename": "NameError",
     "evalue": "name 'of' is not defined",
     "output_type": "error",
     "traceback": [
      "\u001b[0;31m---------------------------------------------------------------------------\u001b[0m",
      "\u001b[0;31mNameError\u001b[0m                                 Traceback (most recent call last)",
      "\u001b[0;32m/var/folders/fg/10s82l0s4xq7b9ld1yn3k2j80000gn/T/ipykernel_673/3681994440.py\u001b[0m in \u001b[0;36m<module>\u001b[0;34m\u001b[0m\n\u001b[0;32m----> 1\u001b[0;31m \u001b[0mint\u001b[0m\u001b[0;34m(\u001b[0m\u001b[0mof\u001b[0m\u001b[0;34m.\u001b[0m\u001b[0mget_current_track_info\u001b[0m\u001b[0;34m(\u001b[0m\u001b[0;34m)\u001b[0m\u001b[0;34m.\u001b[0m\u001b[0mget\u001b[0m\u001b[0;34m(\u001b[0m\u001b[0;34m'playlist_position'\u001b[0m\u001b[0;34m)\u001b[0m\u001b[0;34m)\u001b[0m\u001b[0;34m\u001b[0m\u001b[0;34m\u001b[0m\u001b[0m\n\u001b[0m",
      "\u001b[0;31mNameError\u001b[0m: name 'of' is not defined"
     ]
    }
   ],
   "source": [
    "int(of.get_current_track_info().get('playlist_position'))"
   ]
  },
  {
   "cell_type": "code",
   "execution_count": 91,
   "id": "eb930317",
   "metadata": {},
   "outputs": [],
   "source": [
    "of.add_multiple_to_queue(prev_queue)"
   ]
  },
  {
   "cell_type": "code",
   "execution_count": 100,
   "id": "2d5a323b",
   "metadata": {},
   "outputs": [
    {
     "data": {
      "text/plain": [
       "Queue(items=[<DidlItem 'b''' at 0x1117d6fa0>, <DidlMusicTrack 'b'klingelstreich.mp3'' at 0x1117d6520>, <DidlItem 'b''' at 0x1117d6070>, <DidlItem 'b''' at 0x1117d68b0>, <DidlItem 'b''' at 0x1117d6490>, <DidlItem 'b''' at 0x1117d6910>, <DidlItem 'b''' at 0x1117d67f0>, <DidlItem 'b''' at 0x1117d6040>, <DidlItem 'b''' at 0x1117d6d30>, <DidlItem 'b''' at 0x1117d6ee0>, <DidlItem 'b''' at 0x11207b910>, <DidlItem 'b''' at 0x11207bbe0>])"
      ]
     },
     "execution_count": 100,
     "metadata": {},
     "output_type": "execute_result"
    }
   ],
   "source": [
    "prev_queue"
   ]
  },
  {
   "cell_type": "code",
   "execution_count": null,
   "id": "1e190443",
   "metadata": {},
   "outputs": [],
   "source": []
  }
 ],
 "metadata": {
  "kernelspec": {
   "display_name": "Python 3 (ipykernel)",
   "language": "python",
   "name": "python3"
  },
  "language_info": {
   "codemirror_mode": {
    "name": "ipython",
    "version": 3
   },
   "file_extension": ".py",
   "mimetype": "text/x-python",
   "name": "python",
   "nbconvert_exporter": "python",
   "pygments_lexer": "ipython3",
   "version": "3.8.12"
  },
  "toc": {
   "base_numbering": 1,
   "nav_menu": {},
   "number_sections": true,
   "sideBar": true,
   "skip_h1_title": false,
   "title_cell": "Table of Contents",
   "title_sidebar": "Contents",
   "toc_cell": false,
   "toc_position": {},
   "toc_section_display": true,
   "toc_window_display": false
  }
 },
 "nbformat": 4,
 "nbformat_minor": 5
}
