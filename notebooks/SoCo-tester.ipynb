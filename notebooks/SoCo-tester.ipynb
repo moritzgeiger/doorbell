{
 "cells": [
  {
   "cell_type": "code",
   "execution_count": 4,
   "id": "152d30c7",
   "metadata": {
    "ExecuteTime": {
     "end_time": "2021-07-13T21:58:49.946267Z",
     "start_time": "2021-07-13T21:58:49.748831Z"
    }
   },
   "outputs": [
    {
     "name": "stdout",
     "output_type": "stream",
     "text": [
      "Esszimmer\n",
      "Unnamed Room\n",
      "Gang\n",
      "Büro\n"
     ]
    }
   ],
   "source": [
    "from soco import SoCo\n",
    "import soco\n",
    "for zone in soco.discover():\n",
    "    print(zone.player_name)"
   ]
  },
  {
   "cell_type": "code",
   "execution_count": 82,
   "id": "9487b55c",
   "metadata": {},
   "outputs": [],
   "source": [
    "import time"
   ]
  },
  {
   "cell_type": "code",
   "execution_count": 173,
   "id": "ee7bb098",
   "metadata": {},
   "outputs": [],
   "source": [
    "devices = {device.player_name: device for device in soco.discover()}\n",
    "sp = devices[speaker]"
   ]
  },
  {
   "cell_type": "code",
   "execution_count": 184,
   "id": "f18cfc73",
   "metadata": {},
   "outputs": [
    {
     "data": {
      "text/plain": [
       "{'current_transport_status': 'OK',\n",
       " 'current_transport_state': 'PLAYING',\n",
       " 'current_transport_speed': '1'}"
      ]
     },
     "execution_count": 184,
     "metadata": {},
     "output_type": "execute_result"
    }
   ],
   "source": [
    "sp.get_current_transport_info()"
   ]
  },
  {
   "cell_type": "code",
   "execution_count": 164,
   "id": "c9e5b4ea",
   "metadata": {},
   "outputs": [
    {
     "name": "stdout",
     "output_type": "stream",
     "text": [
      "yes\n"
     ]
    }
   ],
   "source": [
    "if sp.get_queue():\n",
    "    print('yes')\n",
    "else:\n",
    "    print('no')"
   ]
  },
  {
   "cell_type": "code",
   "execution_count": 3,
   "id": "734d9a0f",
   "metadata": {
    "ExecuteTime": {
     "end_time": "2021-07-13T21:58:29.674527Z",
     "start_time": "2021-07-13T21:58:29.464198Z"
    }
   },
   "outputs": [
    {
     "data": {
      "text/plain": [
       "{SoCo(\"192.168.178.33\"),\n",
       " SoCo(\"192.168.178.35\"),\n",
       " SoCo(\"192.168.178.36\"),\n",
       " SoCo(\"192.168.178.37\")}"
      ]
     },
     "execution_count": 3,
     "metadata": {},
     "output_type": "execute_result"
    }
   ],
   "source": [
    "soco.discover()"
   ]
  },
  {
   "cell_type": "code",
   "execution_count": 221,
   "id": "fa26b18f",
   "metadata": {},
   "outputs": [
    {
     "ename": "SoCoSlaveException",
     "evalue": "The method or property \"play\" can only be called/used on the coordinator in a group",
     "output_type": "error",
     "traceback": [
      "\u001b[0;31m---------------------------------------------------------------------------\u001b[0m",
      "\u001b[0;31mSoCoSlaveException\u001b[0m                        Traceback (most recent call last)",
      "\u001b[0;32m<ipython-input-221-ee0e525cf9f7>\u001b[0m in \u001b[0;36m<module>\u001b[0;34m\u001b[0m\n\u001b[0;32m----> 1\u001b[0;31m \u001b[0mSoCo\u001b[0m\u001b[0;34m(\u001b[0m\u001b[0;34m\"192.168.0.28\"\u001b[0m\u001b[0;34m)\u001b[0m\u001b[0;34m.\u001b[0m\u001b[0mplay\u001b[0m\u001b[0;34m(\u001b[0m\u001b[0;34m)\u001b[0m\u001b[0;34m\u001b[0m\u001b[0;34m\u001b[0m\u001b[0m\n\u001b[0m",
      "\u001b[0;32m~/.pyenv/versions/3.8.6/envs/lewagon/lib/python3.8/site-packages/soco/core.py\u001b[0m in \u001b[0;36minner_function\u001b[0;34m(self, *args, **kwargs)\u001b[0m\n\u001b[1;32m    119\u001b[0m                 \u001b[0;34m\"on the coordinator in a group\"\u001b[0m\u001b[0;34m.\u001b[0m\u001b[0mformat\u001b[0m\u001b[0;34m(\u001b[0m\u001b[0mfunction\u001b[0m\u001b[0;34m.\u001b[0m\u001b[0m__name__\u001b[0m\u001b[0;34m)\u001b[0m\u001b[0;34m\u001b[0m\u001b[0;34m\u001b[0m\u001b[0m\n\u001b[1;32m    120\u001b[0m             )\n\u001b[0;32m--> 121\u001b[0;31m             \u001b[0;32mraise\u001b[0m \u001b[0mSoCoSlaveException\u001b[0m\u001b[0;34m(\u001b[0m\u001b[0mmessage\u001b[0m\u001b[0;34m)\u001b[0m\u001b[0;34m\u001b[0m\u001b[0;34m\u001b[0m\u001b[0m\n\u001b[0m\u001b[1;32m    122\u001b[0m         \u001b[0;32mreturn\u001b[0m \u001b[0mfunction\u001b[0m\u001b[0;34m(\u001b[0m\u001b[0mself\u001b[0m\u001b[0;34m,\u001b[0m \u001b[0;34m*\u001b[0m\u001b[0margs\u001b[0m\u001b[0;34m,\u001b[0m \u001b[0;34m**\u001b[0m\u001b[0mkwargs\u001b[0m\u001b[0;34m)\u001b[0m\u001b[0;34m\u001b[0m\u001b[0;34m\u001b[0m\u001b[0m\n\u001b[1;32m    123\u001b[0m \u001b[0;34m\u001b[0m\u001b[0m\n",
      "\u001b[0;31mSoCoSlaveException\u001b[0m: The method or property \"play\" can only be called/used on the coordinator in a group"
     ]
    }
   ],
   "source": [
    "SoCo(\"192.168.0.28\").play()"
   ]
  },
  {
   "cell_type": "code",
   "execution_count": 217,
   "id": "16f6b694",
   "metadata": {},
   "outputs": [
    {
     "data": {
      "text/plain": [
       "{'Office': SoCo(\"192.168.0.32\"),\n",
       " 'Living Room': SoCo(\"192.168.0.28\"),\n",
       " 'Bedroom': SoCo(\"192.168.0.31\")}"
      ]
     },
     "execution_count": 217,
     "metadata": {},
     "output_type": "execute_result"
    }
   ],
   "source": [
    "devices"
   ]
  },
  {
   "cell_type": "code",
   "execution_count": 8,
   "id": "a842c9b3",
   "metadata": {
    "ExecuteTime": {
     "end_time": "2021-07-13T22:02:25.159008Z",
     "start_time": "2021-07-13T22:02:23.892866Z"
    }
   },
   "outputs": [],
   "source": [
    "url = 'https://www.clubfmserver.be/radioclubfm.mp3'\n",
    "devices = {device.player_name: device for device in soco.discover()}\n",
    "sp = devices.get('Büro')\n",
    "sp.play()"
   ]
  },
  {
   "cell_type": "code",
   "execution_count": 213,
   "id": "bbe5f661",
   "metadata": {},
   "outputs": [
    {
     "name": "stdout",
     "output_type": "stream",
     "text": [
      "injecting and playing song...\n",
      "returning to old queue.\n"
     ]
    }
   ],
   "source": [
    "# set designated speaker\n",
    "speaker = 'Office'\n",
    "\n",
    "\n",
    "def play_song(speaker, url, playtime):\n",
    "    \"\"\"\n",
    "    Takes in the string of a speaker name and a playable .mp3 URL file or radio station.\n",
    "    Injects the song into the playlist and plays it on the designated speaker.\n",
    "    \"\"\"\n",
    "        \n",
    "    try:\n",
    "        #find all devices and set the seeked one\n",
    "        devices = {device.player_name: device for device in soco.discover()}\n",
    "        sp = devices[speaker]\n",
    "        prev_queue = sp.get_queue()\n",
    "        play_mode = sp.get_current_transport_info()\n",
    "        \n",
    "        if play_mode.get('current_transport_state') == 'PLAYING':\n",
    "            # save previous settings\n",
    "            prev_vol = sp.volume\n",
    "            get_pos = int(sp.get_current_track_info().get('playlist_position')) # base is 1\n",
    "            get_seek = sp.get_current_track_info().get('position')\n",
    "\n",
    "            # play the song\n",
    "            print('injecting and playing song...')\n",
    "            sp.volume = 3\n",
    "            sp.add_uri_to_queue(url, position=get_pos+1)\n",
    "            sp.next()\n",
    "            sp.play()\n",
    "            \n",
    "            # set play time\n",
    "            time.sleep(playtime)\n",
    "\n",
    "            # get back to the old queue\n",
    "            print('returning to old queue.')\n",
    "            sp.clear_queue()\n",
    "            sp.add_multiple_to_queue(prev_queue)\n",
    "            sp.volume = prev_vol\n",
    "            sp.play_from_queue(get_pos-1) # base is 0\n",
    "            sp.seek(get_seek)\n",
    "        \n",
    "        else:\n",
    "            print('playing song...')\n",
    "            sp.volume = 3\n",
    "            sp.play_uri(url)\n",
    "            time.sleep(playtime)\n",
    "            sp.pause()\n",
    "            sp.clear_queue()\n",
    "            sp.add_multiple_to_queue(prev_queue)\n",
    "\n",
    "    except KeyError:\n",
    "        print(f'speaker {speaker} not found')\n",
    "    \n",
    "play_song(speaker, url, playtime=5)"
   ]
  },
  {
   "cell_type": "code",
   "execution_count": 138,
   "id": "d7d0dc11",
   "metadata": {},
   "outputs": [
    {
     "data": {
      "text/plain": [
       "1"
      ]
     },
     "execution_count": 138,
     "metadata": {},
     "output_type": "execute_result"
    }
   ],
   "source": [
    "int(of.get_current_track_info().get('playlist_position'))"
   ]
  },
  {
   "cell_type": "code",
   "execution_count": 91,
   "id": "eb930317",
   "metadata": {},
   "outputs": [],
   "source": [
    "of.add_multiple_to_queue(prev_queue)"
   ]
  },
  {
   "cell_type": "code",
   "execution_count": 100,
   "id": "2d5a323b",
   "metadata": {},
   "outputs": [
    {
     "data": {
      "text/plain": [
       "Queue(items=[<DidlItem 'b''' at 0x1117d6fa0>, <DidlMusicTrack 'b'klingelstreich.mp3'' at 0x1117d6520>, <DidlItem 'b''' at 0x1117d6070>, <DidlItem 'b''' at 0x1117d68b0>, <DidlItem 'b''' at 0x1117d6490>, <DidlItem 'b''' at 0x1117d6910>, <DidlItem 'b''' at 0x1117d67f0>, <DidlItem 'b''' at 0x1117d6040>, <DidlItem 'b''' at 0x1117d6d30>, <DidlItem 'b''' at 0x1117d6ee0>, <DidlItem 'b''' at 0x11207b910>, <DidlItem 'b''' at 0x11207bbe0>])"
      ]
     },
     "execution_count": 100,
     "metadata": {},
     "output_type": "execute_result"
    }
   ],
   "source": [
    "prev_queue"
   ]
  },
  {
   "cell_type": "code",
   "execution_count": null,
   "id": "1e190443",
   "metadata": {},
   "outputs": [],
   "source": []
  }
 ],
 "metadata": {
  "kernelspec": {
   "display_name": "Python 3 (ipykernel)",
   "language": "python",
   "name": "python3"
  },
  "language_info": {
   "codemirror_mode": {
    "name": "ipython",
    "version": 3
   },
   "file_extension": ".py",
   "mimetype": "text/x-python",
   "name": "python",
   "nbconvert_exporter": "python",
   "pygments_lexer": "ipython3",
   "version": "3.9.0"
  },
  "toc": {
   "base_numbering": 1,
   "nav_menu": {},
   "number_sections": true,
   "sideBar": true,
   "skip_h1_title": false,
   "title_cell": "Table of Contents",
   "title_sidebar": "Contents",
   "toc_cell": false,
   "toc_position": {},
   "toc_section_display": true,
   "toc_window_display": false
  }
 },
 "nbformat": 4,
 "nbformat_minor": 5
}
